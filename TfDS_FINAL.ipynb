{
  "metadata": {
    "kernelspec": {
      "name": "python",
      "display_name": "Python (Pyodide)",
      "language": "python"
    },
    "language_info": {
      "codemirror_mode": {
        "name": "python",
        "version": 3
      },
      "file_extension": ".py",
      "mimetype": "text/x-python",
      "name": "python",
      "nbconvert_exporter": "python",
      "pygments_lexer": "ipython3",
      "version": "3.8"
    }
  },
  "nbformat_minor": 5,
  "nbformat": 4,
  "cells": [
    {
      "id": "4996a32b-7292-4352-9459-a424f8469446",
      "cell_type": "markdown",
      "source": "# Final Project Notebook",
      "metadata": {}
    },
    {
      "id": "5c3e7832-f727-45e0-bc48-31de164120da",
      "cell_type": "markdown",
      "source": "## Introduction\nThis notebook contains my final project for the Data Science course. It includes various exercises to demonstrate my understanding of data science concepts.",
      "metadata": {}
    },
    {
      "id": "17c24e6c-88da-468a-b7f8-6427ee40e2c8",
      "cell_type": "markdown",
      "source": "## Data Science Languages\n- Python\n- R\n- Julia\n- SQL\n",
      "metadata": {}
    },
    {
      "id": "11f18c19-9d9e-483f-a80b-d1e36153b721",
      "cell_type": "markdown",
      "source": "## Data Science Libraries\n- Pandas\n- NumPy\n- Matplotlib\n- Scikit-learn\n- TensorFlow",
      "metadata": {}
    },
    {
      "id": "fc08e808-e928-4d8e-8e3f-7427965c6a97",
      "cell_type": "markdown",
      "source": "## Data Science Tools\n| Tool          | Description                        |\n|---------------|------------------------------------|\n| Jupyter       | Interactive computing environment  |\n| RStudio       | IDE for R programming              |\n| Apache Spark  | Cluster computing framework        |\n| TensorFlow    | Machine learning library           |\n| Hadoop        | Distributed storage and processing |\n",
      "metadata": {}
    },
    {
      "id": "6fd28d19-61cb-489b-81d4-dd2cb5d40b9d",
      "cell_type": "markdown",
      "source": "## Arithmetic Expression Examples\nBelow are some examples of basic arithmetic expressions.\n",
      "metadata": {}
    },
    {
      "id": "683667eb-3f1a-469f-916e-da7bffa0610a",
      "cell_type": "code",
      "source": "# Multiply and Add Numbers\nresult = (3 * 4) + 5\nresult\n",
      "metadata": {
        "trusted": true
      },
      "outputs": [
        {
          "execution_count": 1,
          "output_type": "execute_result",
          "data": {
            "text/plain": "17"
          },
          "metadata": {}
        }
      ],
      "execution_count": 1
    },
    {
      "id": "b43ed99a-a1e6-42f2-99e7-0c60d3298e6b",
      "cell_type": "code",
      "source": "# Convert Minutes to Hours\nminutes = 120\nhours = minutes / 60\nhours\n",
      "metadata": {
        "trusted": true
      },
      "outputs": [
        {
          "execution_count": 2,
          "output_type": "execute_result",
          "data": {
            "text/plain": "2.0"
          },
          "metadata": {}
        }
      ],
      "execution_count": 2
    },
    {
      "id": "723df3bf-9a7c-48d8-bb2e-2d2bd841e67e",
      "cell_type": "markdown",
      "source": "## Objectives\n- Learn about data science languages\n- Explore data science libraries\n- Understand data science tools\n- Practice basic arithmetic expressions\n- Convert units of time\n",
      "metadata": {}
    },
    {
      "id": "72b83862-48cf-419f-be81-b254e66e7b8d",
      "cell_type": "markdown",
      "source": "## Author\nLe Nguyen Gia Hung",
      "metadata": {}
    }
  ]
}